{
 "cells": [
  {
   "cell_type": "markdown",
   "id": "283eaaa5",
   "metadata": {},
   "source": [
    "# Assignment 2  \n",
    "\n",
    "The goal for this notebook is to understand the important of low-wavenumber in the inversion. Thus we will start with a linearly increasing model with depth (i.e., V(z)) model. \n",
    "\n",
    "\n",
    "### Tasks: \n",
    "\n",
    "     - Aplpy FWI using the full data spectrum starting from 3 Hz, then apply a multi-scale approach to improve the inversion of v(z). Explain your steps and your observations. \n",
    "          \n",
    "     - What is the minimum and maximum wavenumber expected for the first frequency range at depths 1,2,3 km?\n",
    "\n",
    "     "
   ]
  },
  {
   "cell_type": "code",
   "execution_count": null,
   "id": "11f9a391",
   "metadata": {},
   "outputs": [],
   "source": [
    "import time\n",
    "import torch\n",
    "import numpy as np\n",
    "from scipy.ndimage import gaussian_filter\n",
    "import matplotlib.pyplot as plt\n",
    "import deepwave\n",
    "from scipy import signal\n",
    "from torchvision.transforms import GaussianBlur \n",
    "from fwi import FWI\n",
    "%matplotlib inline"
   ]
  },
  {
   "cell_type": "code",
   "execution_count": null,
   "id": "abf3eca8",
   "metadata": {},
   "outputs": [],
   "source": []
  },
  {
   "cell_type": "markdown",
   "id": "fbba3fb5",
   "metadata": {},
   "source": [
    "####  Functions"
   ]
  },
  {
   "cell_type": "code",
   "execution_count": null,
   "id": "3c6440ca",
   "metadata": {},
   "outputs": [],
   "source": [
    "def Plot_model(m,par,name=None,**kwargs):\n",
    "    \"\"\"\n",
    "    plot a 2D model \n",
    "    \n",
    "    Arguments\n",
    "    ----------\n",
    "    m: 2D numpy array\n",
    "         array containing the model\n",
    "    par : dictionary \n",
    "        dictionary containing the axis points,increments, and origin points. \n",
    "        (i.e,par['ox'],par['dx'],par['nx'],par['nz'],par['dz'],par['oz'])\n",
    "    ----------\n",
    "    Optional \n",
    "    ----------\n",
    "    vmax: float\n",
    "          Maximum value for the plot \n",
    "    vmin: float\n",
    "          Minimum value for plot\n",
    "    cmap: str\n",
    "          Matplotlib-colormap\n",
    "    name: str \n",
    "          to save the figure with the corresponding 'name' in a 'Fig' directory\n",
    "    \"\"\"\n",
    "\n",
    "    vmax = kwargs.pop('vmax', None)\n",
    "    vmin = kwargs.pop('vmin', None)\n",
    "    name = kwargs.pop('name', None)\n",
    "    cmap = kwargs.pop('cmap', 'jet')\n",
    "    if 'vmin'==None: vmin, _ = np.percentile(m.T,[2,98])\n",
    "    if 'vmax'==None: _, vmax = np.percentile(m.T,[2,98])\n",
    "    plt.figure(figsize=(10,3))\n",
    "    plt.imshow(m,cmap=cmap,vmin=vmin,vmax=vmax,extent=[par['ox'],par['dx']*par['nx'],par['nz']*par['dz'],par['oz']])\n",
    "    plt.axis('tight')\n",
    "    plt.xlabel('Distance (km)',fontsize=18,weight='heavy')\n",
    "    plt.ylabel('Depth (km)',fontsize=18,weight='heavy')\n",
    "    plt.colorbar(label='km/s')\n",
    "    if name!=None:\n",
    "        if not os.path.isdir('./Fig'): os.mkdir('./Fig')\n",
    "        plt.savefig('./Fig/'+name,bbox_inches='tight')\n",
    "    \n",
    "    \n",
    "def plot_shot(data,idx,par):\n",
    "    \"\"\"\n",
    "    plot a shot gather \n",
    "    \n",
    "    Arguments\n",
    "    ----------\n",
    "    data: 3D numpy array \n",
    "         array containing the shot gathers\n",
    "    idx : int \n",
    "        the index of the shot gather to be plotted\n",
    "    par: dictionary \n",
    "        A dictionary containing the parameter for the shot (nt,dt,nt,dt)        \n",
    "    \"\"\"\n",
    "    vmin, vmax = np.percentile(data[:,idx].cpu().numpy(), [2,98])\n",
    "    plt.figure()\n",
    "    plt.imshow(data[:,idx].cpu().numpy(), aspect='auto',\n",
    "           vmin=vmin, vmax=vmax,cmap='gray',extent=[par['orec']+idx*par['ds'],par['orec']+idx*par['ds']+par['dr']*par['nr'],\n",
    "                                                    par['nt']*par['dt'],par['ot']])\n",
    "    plt.ylabel('Time (s)')\n",
    "    plt.xlabel('Distance (km)')\n",
    "    \n",
    "    \n",
    "def mask(m,value):\n",
    "    \"\"\"\n",
    "    Return a mask for the model (m) using the (value)\n",
    "    \"\"\"\n",
    "    msk = m > value\n",
    "    msk = msk.astype(int)\n",
    "    return msk\n",
    "\n"
   ]
  },
  {
   "cell_type": "markdown",
   "id": "e9dcde71",
   "metadata": {},
   "source": [
    "#### Define the parameters and I/O files "
   ]
  },
  {
   "cell_type": "code",
   "execution_count": null,
   "id": "affabd98",
   "metadata": {},
   "outputs": [],
   "source": [
    "device = torch.device('cuda:0')\n",
    "\n",
    "\n",
    "# Load the true model for forward modelling \n",
    "path = '../Assignment1/'\n",
    "velocity_file= path + 'Marm.bin' # true model \n",
    "\n",
    "# Define the model and achuisition parameters\n",
    "par = {'nx':601,   'dx':0.015, 'ox':0,\n",
    "       'nz':221,   'dz':0.015, 'oz':0,\n",
    "       'ns':30,    'ds':0.3,   'osou':0,  'sz':0.03,\n",
    "       'nr':300,   'dr':0.03,  'orec':0,  'rz':0.03,\n",
    "       'nt':3000,  'dt':0.0013,  'ot':0,\n",
    "       'freq':15,\n",
    "       'num_batches':10, # increase thus number if you have a CUDA out of memory error \n",
    "       'FWI_itr': 100,\n",
    "       'num_dims': 2 \n",
    "      }\n",
    "\n",
    "# Mapping the par dictionary to variables \n",
    "for k in par:\n",
    "    locals()[k] = par[k]\n",
    "    \n",
    "fs = 1/dt # sampling frequency\n",
    "\n",
    "\n"
   ]
  },
  {
   "cell_type": "markdown",
   "id": "e5a857f3",
   "metadata": {},
   "source": [
    "#### Loading the input files"
   ]
  },
  {
   "cell_type": "code",
   "execution_count": null,
   "id": "8b05f69d",
   "metadata": {},
   "outputs": [],
   "source": [
    "\n",
    "#  Load the velocity model \n",
    "vel =(np.fromfile(velocity_file, np.float32)\n",
    "              .reshape(nz, nx))\n",
    "\n",
    "\n",
    "vel_init = np.load('./input_files/vz.npy')\n",
    "\n",
    "\n",
    "Plot_model(vel,par)\n",
    "\n",
    "Plot_model(vel_init,par)\n",
    "\n",
    "print(f'vel shape {vel.shape} (nx,nz)  || init shape {vel_init.shape} (nx,nz)')\n"
   ]
  },
  {
   "cell_type": "code",
   "execution_count": null,
   "id": "d0e701cb-c19a-4434-9d57-25e3868dffe4",
   "metadata": {},
   "outputs": [],
   "source": []
  },
  {
   "cell_type": "markdown",
   "id": "9c81dafc",
   "metadata": {},
   "source": [
    "#### Convert arrays to tensor "
   ]
  },
  {
   "cell_type": "code",
   "execution_count": null,
   "id": "86f6d4fd",
   "metadata": {},
   "outputs": [],
   "source": [
    "# Get a mask for the water layer (P.S water veocity = 1.5 km/s)\n",
    "msk_water = np.ones_like(vel)\n",
    "msk_water[:20,] =  0\n",
    "\n",
    "\n",
    "\n",
    "# convert to tensor\n",
    "vel = torch.tensor(vel,dtype=torch.float32)\n",
    "vel_init = torch.tensor(vel_init,dtype=torch.float32)\n",
    "\n",
    "\n",
    "\n",
    "\n",
    "\n"
   ]
  },
  {
   "cell_type": "code",
   "execution_count": null,
   "id": "6b9fa94b",
   "metadata": {},
   "outputs": [],
   "source": []
  },
  {
   "cell_type": "markdown",
   "id": "cb9b9450",
   "metadata": {},
   "source": [
    "### Initialize FWI class "
   ]
  },
  {
   "cell_type": "code",
   "execution_count": null,
   "id": "3647307e",
   "metadata": {},
   "outputs": [],
   "source": [
    "\n",
    "# initialize the fwi class\n",
    "inversion = FWI(par)\n"
   ]
  },
  {
   "cell_type": "markdown",
   "id": "d63148a0",
   "metadata": {},
   "source": [
    "#### Forward modelling \n",
    "    \n",
    "You don't need to do this step, it is already done to create the observed data "
   ]
  },
  {
   "cell_type": "code",
   "execution_count": null,
   "id": "dd69ed6b",
   "metadata": {},
   "outputs": [],
   "source": [
    "def highpass_filter(freq, wavelet, dt):\n",
    "    \"\"\"\n",
    "    Filter out low frequency\n",
    "\n",
    "    Parameters\n",
    "    ----------\n",
    "    freq : :obj:`int`\n",
    "    Cut-off frequency\n",
    "    wavelet : :obj:`torch.Tensor`\n",
    "    Tensor of wavelet\n",
    "    dt : :obj:`float32`\n",
    "    Time sampling\n",
    "    Returns\n",
    "    -------\n",
    "    : :obj:`torch.Tensor`\n",
    "    Tensor of highpass frequency wavelet\n",
    "    \"\"\"\n",
    "\n",
    "    sos = signal.butter(6,  freq / (0.5 * (1 / dt)), 'hp', output='sos') \n",
    "    return torch.tensor( signal.sosfiltfilt(sos, wavelet,axis=0).copy(),dtype=torch.float32)\n",
    "\n",
    "\n",
    "\n",
    "# #Ricker wavelet\n",
    "wavl = inversion.Ricker(freq)\n",
    "# Foeward modelling \n",
    "data = torch.zeros((nt,ns,nr),dtype=torch.float32)\n",
    "data = inversion.forward_modelling(vel,wavl.repeat(1,ns,1),device)\n",
    "\n",
    "\n",
    "# Remove low frequencies \n",
    "wavl = highpass_filter(4,wavl,dt)\n",
    "data = highpass_filter(4,data,dt) "
   ]
  },
  {
   "cell_type": "code",
   "execution_count": null,
   "id": "5c4f0eeb",
   "metadata": {},
   "outputs": [],
   "source": [
    "plot_shot(data,par['ns']//2,par)\n",
    "print(data.shape)\n"
   ]
  },
  {
   "cell_type": "markdown",
   "id": "ca3aa383",
   "metadata": {},
   "source": [
    "#### Apply the multiscaling"
   ]
  },
  {
   "cell_type": "code",
   "execution_count": null,
   "id": "60c0f404",
   "metadata": {},
   "outputs": [],
   "source": [
    "# ## To do \n",
    "\n",
    "\n",
    "\n",
    "\n",
    "# plot_shot(data_filtered,5,par)\n",
    "\n",
    "# plt.figure()\n",
    "# plt.magnitude_spectrum(wavl_filtered[:,0,0],fs)\n",
    "# plt.xlim([0,10])"
   ]
  },
  {
   "cell_type": "code",
   "execution_count": null,
   "id": "492dc537",
   "metadata": {},
   "outputs": [],
   "source": []
  },
  {
   "cell_type": "markdown",
   "id": "9b8e1b10",
   "metadata": {},
   "source": [
    "### Run inversion \n"
   ]
  },
  {
   "cell_type": "code",
   "execution_count": null,
   "id": "6e69a00f",
   "metadata": {},
   "outputs": [],
   "source": [
    "v_inv,loss  = inversion.run_inversion(vel_init,data,wavl,msk_water,\n",
    "                                      FWI_itr,device) \n",
    "\n",
    "\n"
   ]
  },
  {
   "cell_type": "markdown",
   "id": "b2a40b76",
   "metadata": {},
   "source": [
    "### Plotting the objective function and the inversion results and saving the inversion \n"
   ]
  },
  {
   "cell_type": "code",
   "execution_count": null,
   "id": "0d894d13",
   "metadata": {},
   "outputs": [],
   "source": [
    "\n",
    "# To Do \n",
    "\n"
   ]
  },
  {
   "cell_type": "code",
   "execution_count": null,
   "id": "70c1d1c3",
   "metadata": {},
   "outputs": [],
   "source": []
  },
  {
   "cell_type": "code",
   "execution_count": null,
   "id": "62bf3199",
   "metadata": {},
   "outputs": [],
   "source": []
  },
  {
   "cell_type": "code",
   "execution_count": null,
   "id": "f1a31034",
   "metadata": {},
   "outputs": [],
   "source": []
  },
  {
   "cell_type": "code",
   "execution_count": null,
   "id": "96f158d9",
   "metadata": {},
   "outputs": [],
   "source": []
  }
 ],
 "metadata": {
  "kernelspec": {
   "display_name": "Python 3 (ipykernel)",
   "language": "python",
   "name": "python3"
  },
  "language_info": {
   "codemirror_mode": {
    "name": "ipython",
    "version": 3
   },
   "file_extension": ".py",
   "mimetype": "text/x-python",
   "name": "python",
   "nbconvert_exporter": "python",
   "pygments_lexer": "ipython3",
   "version": "3.9.7"
  }
 },
 "nbformat": 4,
 "nbformat_minor": 5
}
