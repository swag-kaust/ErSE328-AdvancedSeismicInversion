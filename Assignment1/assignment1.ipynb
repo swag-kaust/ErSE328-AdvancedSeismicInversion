{
 "cells": [
  {
   "cell_type": "markdown",
   "id": "b9df5b93",
   "metadata": {},
   "source": [
    "## Assignment 1\n",
    "\n",
    "\n",
    "Tasks:  \n",
    "1. Try to improve the inversion result by applying a slight smoothing to the gradient. \n",
    "2. Apply the inversion using different initial model (i.e. different smoothing) and observe the convergence.   \n",
    "3. Apply a heavy smoothing to the initial model (maybe double the smoothing in the original notebook), then impliment FWI with and without filtering out frequencies below 7 Hz and observe the difference \n",
    "\n",
    "For each of the above tasks, explain your observation and the reason for the convergence behavior.  \n",
    "\n",
    "You can submit your answers in a normal pdf report or using the jupyter notebook in a pdf format but you have to answer the question using Markdown mode.   \n"
   ]
  },
  {
   "cell_type": "code",
   "execution_count": null,
   "id": "8075cc0b",
   "metadata": {},
   "outputs": [],
   "source": [
    "import time\n",
    "import torch\n",
    "import numpy as np\n",
    "from scipy.ndimage import gaussian_filter\n",
    "import matplotlib.pyplot as plt\n",
    "import deepwave\n",
    "from scipy import signal\n",
    "%matplotlib inline"
   ]
  },
  {
   "cell_type": "markdown",
   "id": "4d6e2fd2",
   "metadata": {},
   "source": [
    "## setting the parameters "
   ]
  },
  {
   "cell_type": "code",
   "execution_count": null,
   "id": "9014f947",
   "metadata": {},
   "outputs": [],
   "source": [
    "device = torch.device('cuda:0')\n",
    "\n",
    "\n",
    "# Load the true model for forward modelling \n",
    "path = './'\n",
    "velocity_file= path + 'Marm.bin' # true model \n",
    "\n",
    "# Define the model and achuisition parameters\n",
    "par = {'nx':601,   'dx':0.015, 'ox':0,\n",
    "       'nz':221,   'dz':0.015, 'oz':0,\n",
    "       'ns':30,    'ds':0.3,   'osou':0,  'sz':0,\n",
    "       'nr':300,   'dr':0.03,  'orec':0, 'rz':0,\n",
    "       'nt':4000,  'dt':0.001,  'ot':0,\n",
    "       'freq':15,\n",
    "       'num_batches':5, # increase thus number if you have a CUDA out of memory error \n",
    "        'FWI_itr': 100\n",
    "      }\n",
    "\n",
    "# Mapping the par dictionary to variables \n",
    "for k in par:\n",
    "    locals()[k] = par[k]\n",
    "    \n",
    "fs = 1/dt # sampling frequency\n",
    "\n",
    "\n",
    "# Don't change the below two lines \n",
    "num_sources_per_shot=1\n",
    "num_dims = 2 \n",
    "\n"
   ]
  },
  {
   "cell_type": "markdown",
   "id": "4a54ad9f",
   "metadata": {},
   "source": [
    "## The acquisition set-up\n",
    "\n",
    " Create arrays containing the source and receiver locations\n",
    " \n",
    "    x_s: Source locations [num_shots, num_sources_per_shot, num_dimensions].\n",
    "    \n",
    "    x_r: Receiver locations [num_shots, num_receivers_per_shot, num_dimensions]"
   ]
  },
  {
   "cell_type": "code",
   "execution_count": null,
   "id": "893f8cfd",
   "metadata": {},
   "outputs": [],
   "source": [
    "\n",
    "x_s = torch.zeros(ns, num_sources_per_shot, num_dims)\n",
    "x_s[:, 0, 1] = torch.arange(ns).float() * ds  \n",
    "x_s[:, 0, 0] = sz\n",
    "\n",
    "x_r = torch.zeros(ns, nr, num_dims)\n",
    "x_r[0, :, 1] = torch.arange(nr).float() * dr\n",
    "x_r[:, :, 1] = x_r[0, :, 1].repeat(ns, 1)\n",
    "x_r[:, :, 0] = rz\n",
    "\n",
    "\n",
    "\n"
   ]
  },
  {
   "cell_type": "code",
   "execution_count": null,
   "id": "cff4b82f",
   "metadata": {},
   "outputs": [],
   "source": []
  },
  {
   "cell_type": "markdown",
   "id": "f5e64ebd",
   "metadata": {},
   "source": [
    "## Create source wavelet\n",
    "    [nt, num_shots, num_sources_per_shot]\n",
    "\n",
    "I use Deepwave's Ricker wavelet function. The result is a normal Tensor - you can use any function to create the wavelet but it needs to be converted to tensor. "
   ]
  },
  {
   "cell_type": "code",
   "execution_count": null,
   "id": "a325b4ab",
   "metadata": {},
   "outputs": [],
   "source": [
    "\n",
    "\n",
    "source_wavelet = (deepwave.wavelets.ricker(freq, nt, dt, 1/freq)\n",
    "                          .reshape(-1, 1, 1)\n",
    "                          .repeat(1, ns, num_sources_per_shot))\n",
    "print(source_wavelet.shape)\n",
    "\n",
    "\n",
    "plt.plot(np.arange(0,nt)*dt,source_wavelet[:,0,0])\n",
    "plt.xlabel('Time (s)')"
   ]
  },
  {
   "cell_type": "markdown",
   "id": "d99acd19",
   "metadata": {},
   "source": [
    "### Load the velocity model \n",
    "Note: We often do not update the water layer, thus we will keep it untouched by masking the gradient in this region. "
   ]
  },
  {
   "cell_type": "code",
   "execution_count": null,
   "id": "b0314e62",
   "metadata": {},
   "outputs": [],
   "source": [
    "# function to get water layer mask\n",
    "def mask(m):\n",
    "    water_velocity= 1.5 # km/s\n",
    "    msk = np.ones_like(m) \n",
    "    for i in range(m.shape[0]):\n",
    "        for j in range (m.shape[1]): \n",
    "            msk[i,j] = (0 if m[i,j] <= water_velocity else 1)    \n",
    "    return msk \n",
    "\n",
    "\n",
    "# Load the true model\n",
    "model_true = (np.fromfile(velocity_file, np.float32)\n",
    "              .reshape(nz, nx))\n",
    "\n",
    "msk = mask(model_true) # get the mask for the water layer \n",
    "\n",
    "model_true = torch.Tensor(model_true) \n",
    "msk = torch.Tensor(msk)\n",
    "\n",
    "\n",
    "\n",
    "m_vmin, m_vmax = np.percentile(model_true.numpy(), [2,98]) \n",
    "plt.imshow(model_true, vmin=m_vmin, vmax=m_vmax, cmap='jet')\n",
    "plt.title('True');"
   ]
  },
  {
   "cell_type": "code",
   "execution_count": null,
   "id": "81b8be32",
   "metadata": {},
   "outputs": [],
   "source": []
  },
  {
   "cell_type": "markdown",
   "id": "8b8edd47",
   "metadata": {},
   "source": [
    "## Forward modeling "
   ]
  },
  {
   "cell_type": "code",
   "execution_count": null,
   "id": "2485cf2e",
   "metadata": {},
   "outputs": [],
   "source": [
    "# Create 'true' data\n",
    "prop = deepwave.scalar.Propagator({'vp': model_true.to(device)}, dx) # create a propegator \n",
    "\n",
    "data_true = prop(source_wavelet.to(device),\n",
    "                                x_s.to(device),\n",
    "                                x_r.to(device), dt).cpu()"
   ]
  },
  {
   "cell_type": "code",
   "execution_count": null,
   "id": "7714f9e4",
   "metadata": {},
   "outputs": [],
   "source": []
  },
  {
   "cell_type": "code",
   "execution_count": null,
   "id": "49af4f2a",
   "metadata": {},
   "outputs": [],
   "source": [
    "# Plot one shot gather\n",
    "d_vmin, d_vmax = np.percentile(data_true[:,0].cpu().numpy(), [2,98])\n",
    "\n",
    "plt.imshow(data_true[:,0,].cpu().numpy(), aspect='auto',\n",
    "           vmin=-d_vmax, vmax=d_vmax,cmap='gray')\n",
    "\n"
   ]
  },
  {
   "cell_type": "markdown",
   "id": "f4a67050",
   "metadata": {},
   "source": [
    "## Create initial model for FWI \n",
    "\n"
   ]
  },
  {
   "cell_type": "code",
   "execution_count": null,
   "id": "31f1c217",
   "metadata": {},
   "outputs": [],
   "source": [
    "# Create initial guess model for inversion by smoothing the true model\n",
    "model_init = gaussian_filter(model_true.cpu().detach().numpy(),\n",
    "                                           sigma=[10,15])\n",
    "\n",
    "model_init = torch.Tensor(model_init) \n",
    "model_init = model_init * msk  # to preserve the water layer  \n",
    "model_init[model_init==0] = 1.5 # km/s\n",
    "\n",
    "\n",
    "# Make a copy so at the end we can see how far we came from the initial model\n",
    "model = model_init.clone()\n",
    "model = model.to(device)\n",
    "model.requires_grad = True\n",
    "\n",
    "# plot the initial model \n",
    "plt.imshow(model_init, vmin=m_vmin, vmax=m_vmax, cmap='jet')\n",
    "plt.title('initial');"
   ]
  },
  {
   "cell_type": "markdown",
   "id": "991c45fa",
   "metadata": {},
   "source": [
    "##  Set the optimizer and the criterion \n"
   ]
  },
  {
   "cell_type": "code",
   "execution_count": null,
   "id": "d2253e32",
   "metadata": {},
   "outputs": [],
   "source": [
    "criterion = torch.nn.MSELoss()\n",
    "optimizer = torch.optim.Adam([{'params': [model], 'lr': 0.01}])"
   ]
  },
  {
   "cell_type": "markdown",
   "id": "8375ccd2",
   "metadata": {},
   "source": [
    "## Filter the low frequencies from the observed data/wavelet   \n",
    "####  Filter frequency below 7Hz and see how this affects the convergence. You may want to test this with different initial model like in the previous task \n",
    "(hint: you can use the below functions to filter the data or whatever function you want)."
   ]
  },
  {
   "cell_type": "code",
   "execution_count": null,
   "id": "39075da6",
   "metadata": {},
   "outputs": [],
   "source": [
    "\n",
    "# def highpass_filter(freq, wavelet, dt):\n",
    "#     \"\"\"\n",
    "#     Filter out low frequency\n",
    "\n",
    "#     Parameters\n",
    "#     ----------\n",
    "#     freq : :obj:`int`\n",
    "#     Cut-off frequency\n",
    "#     wavelet : :obj:`torch.Tensor`\n",
    "#     Tensor of wavelet\n",
    "#     dt : :obj:`float32`\n",
    "#     Time sampling\n",
    "#     Returns\n",
    "#     -------\n",
    "#     : :obj:`torch.Tensor`\n",
    "#     Tensor of highpass frequency wavelet\n",
    "#     \"\"\"\n",
    "\n",
    "#     sos = signal.butter(4,  6/fs + freq / (0.5 * (1 / dt)), 'hp', output='sos') # AA: Added 6/fs to prevent frequency leak.\n",
    "#     return torch.tensor( signal.sosfiltfilt(sos, wavelet,axis=0).copy(),dtype=torch.float32)\n",
    "\n",
    "\n"
   ]
  },
  {
   "cell_type": "code",
   "execution_count": null,
   "id": "1063b0cb",
   "metadata": {},
   "outputs": [],
   "source": [
    "# Plot the spectrum \n",
    "\n",
    "##"
   ]
  },
  {
   "cell_type": "markdown",
   "id": "40ae0953",
   "metadata": {},
   "source": [
    "## Main inversion loop "
   ]
  },
  {
   "cell_type": "code",
   "execution_count": null,
   "id": "e0797c2c",
   "metadata": {
    "scrolled": false
   },
   "outputs": [],
   "source": [
    "# Iterative inversion loop\n",
    "num_shots_per_batch = int(ns / num_batches)\n",
    "msk = msk.to(device)\n",
    "epoch_loss = []\n",
    "updates = []\n",
    "gradients = []\n",
    "\n",
    "\n",
    "\n",
    "t_start = time.time()\n",
    "for epoch in range(FWI_itr):\n",
    "  running_loss=0\n",
    "  for it in range(num_batches):\n",
    "    optimizer.zero_grad()\n",
    "    prop = deepwave.scalar.Propagator({'vp': model}, dx)\n",
    "    batch_src_wvl = source_wavelet[:,it::num_batches,].to(device)\n",
    "    batch_data_true = data_true[:,it::num_batches].to(device)\n",
    "    batch_x_s = x_s[it::num_batches].to(device)\n",
    "    batch_x_r = x_r[it::num_batches].to(device)\n",
    "    data_pred = prop(batch_src_wvl, batch_x_s, batch_x_r, dt)\n",
    "    loss = criterion(data_pred, batch_data_true)\n",
    "    running_loss += loss.item()\n",
    "    loss.backward()\n",
    "  epoch_loss.append(running_loss)     \n",
    "\n",
    "  # Apply some operations to the gradient\n",
    "  if epoch==0: gmax = torch.abs(model.grad).max()\n",
    "  model.grad = model.grad / gmax  * msk  # normalizing by the first gradient and mask the wter layer\n",
    "    \n",
    "\n",
    "  # update the model \n",
    "  optimizer.step()\n",
    "  print('Epoch:', epoch, 'Loss: ', running_loss)\n",
    "\n",
    "  # save the model updates and gradients for each iteration\n",
    "  updates.append(model.detach().clone().cpu().numpy())\n",
    "  gradients.append(model.grad.cpu().detach().numpy())  \n",
    "    \n",
    "  # plotting every 10 itr   \n",
    "  if epoch % 10 == 0:\n",
    "    plt.figure(figsize=(8, 4))\n",
    "    plt.imshow(model.cpu().detach().numpy(), vmin=m_vmin, vmax=m_vmax,\n",
    "               cmap='jet')\n",
    "    plt.colorbar(shrink=0.5)\n",
    "    plt.show()   \n",
    "#     plt.figure(figsize=(8, 4))\n",
    "#     gr = model.grad.cpu().detach().numpy()\n",
    "#     g_min, g_max = np.percentile(gr, [2,98]) \n",
    "#     plt.imshow(gr, cmap='bwr',vmin=-g_max,vmax=g_max)\n",
    "#     plt.colorbar(shrink=0.5)\n",
    "#     plt.show()\n",
    "    \n",
    "t_end = time.time()\n",
    "print('Runtime:', (t_end - t_start)/60 ,'minutes')"
   ]
  },
  {
   "cell_type": "markdown",
   "id": "3d16018c",
   "metadata": {},
   "source": [
    "## Plot the convergence curve and the final inversion results "
   ]
  },
  {
   "cell_type": "code",
   "execution_count": null,
   "id": "7734271f",
   "metadata": {},
   "outputs": [],
   "source": [
    "updates = np.array(updates)\n",
    "gradients = np.array(gradients)\n",
    "obj = np.array(epoch_loss)\n"
   ]
  },
  {
   "cell_type": "code",
   "execution_count": null,
   "id": "1884d7c1",
   "metadata": {},
   "outputs": [],
   "source": [
    "# Plot initial, inverted, and true models\n",
    "figsize = (8, 4)\n",
    "plt.figure(figsize=figsize)\n",
    "plt.imshow(model_init.numpy(), vmin=m_vmin, vmax=m_vmax, cmap='jet')\n",
    "plt.title('Initial');\n",
    "plt.figure(figsize=figsize)\n",
    "plt.imshow(updates[-1], vmin=m_vmin, vmax=m_vmax, cmap='jet')\n",
    "plt.title('Inverted');\n",
    "plt.savefig('Inverted_model')\n",
    "plt.figure(figsize=figsize)\n",
    "plt.imshow(model_true.numpy(), vmin=m_vmin, vmax=m_vmax, cmap='jet')\n",
    "plt.title('True');\n",
    "plt.savefig('True_model')\n",
    "\n",
    "\n",
    "\n",
    "plt.figure(figsize=(7,4))\n",
    "plt.plot(np.arange(FWI_itr),obj)\n",
    "plt.xlabel('iteration#')"
   ]
  },
  {
   "cell_type": "code",
   "execution_count": null,
   "id": "c0be739c",
   "metadata": {},
   "outputs": [],
   "source": []
  },
  {
   "cell_type": "code",
   "execution_count": null,
   "id": "6dfe8beb",
   "metadata": {},
   "outputs": [],
   "source": []
  },
  {
   "cell_type": "code",
   "execution_count": null,
   "id": "dccbcf81",
   "metadata": {},
   "outputs": [],
   "source": []
  }
 ],
 "metadata": {
  "interpreter": {
   "hash": "dcea05d95f5a5a2c52102d54be3d69ca1e4d72d81e0dd76681491d4ec5f910d5"
  },
  "kernelspec": {
   "display_name": "Python 3 (ipykernel)",
   "language": "python",
   "name": "python3"
  },
  "language_info": {
   "codemirror_mode": {
    "name": "ipython",
    "version": 3
   },
   "file_extension": ".py",
   "mimetype": "text/x-python",
   "name": "python",
   "nbconvert_exporter": "python",
   "pygments_lexer": "ipython3",
   "version": "3.9.7"
  }
 },
 "nbformat": 4,
 "nbformat_minor": 5
}
